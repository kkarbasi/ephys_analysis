{
 "cells": [
  {
   "cell_type": "code",
   "execution_count": null,
   "metadata": {},
   "outputs": [],
   "source": [
    "from fhd import *\n",
    "from matplotlib import pyplot as plt\n",
    "import numpy as np\n",
    "import kaveh.toolbox as kx"
   ]
  },
  {
   "cell_type": "code",
   "execution_count": null,
   "metadata": {},
   "outputs": [],
   "source": [
    "import matplotlib as mpl\n",
    "mpl.rcParams['xtick.color'] = 'gray'\n",
    "mpl.rcParams['ytick.color'] = 'gray'\n",
    "mpl.rcParams['axes.labelcolor'] = 'gray'"
   ]
  },
  {
   "cell_type": "code",
   "execution_count": null,
   "metadata": {},
   "outputs": [],
   "source": [
    "%matplotlib notebook\n",
    "%load_ext autoreload\n",
    "%autoreload 2"
   ]
  },
  {
   "cell_type": "code",
   "execution_count": null,
   "metadata": {},
   "outputs": [],
   "source": [
    "# helper functions\n",
    "def load_fhd_for_fft(f_name):\n",
    "    fhd_content = load(f_name)\n",
    "    data = np.squeeze(fhd_content['channel_{}_voltage'.format(0)].T)\n",
    "    if data.size % 2 != 0:\n",
    "        data = data[0:-1]\n",
    "    return data\n",
    "\n",
    "    \n"
   ]
  },
  {
   "cell_type": "code",
   "execution_count": null,
   "metadata": {},
   "outputs": [],
   "source": [
    "# data_without_mpm = load_fhd_for_fft('/mnt/data/temp/2018_10_25/standalone_ephys_171025.fhd') # without mu metal, with shield, no mpm\n",
    "# data_with_mpm = load_fhd_for_fft('/mnt/data/temp/2018_10_25/standalone_ephys_170920.fhd') # without mu metal, with shield, with mpm\n",
    "\n",
    "data_with_mpm = load_fhd_for_fft('/mnt/data/temp/2018_10_25/standalone_ephys_170741.fhd') # with mu metal, with shield, with mpm\n",
    "data_without_mpm = load_fhd_for_fft('/mnt/data/temp/2018_10_25/standalone_ephys_170603.fhd') # with mu metal, with shield, without mpm\n",
    "\n",
    "Fs = 15000.0\n",
    "dt = 1.0/(Fs)\n",
    "\n",
    "fig_size = (15,5)\n",
    "\n"
   ]
  },
  {
   "cell_type": "code",
   "execution_count": null,
   "metadata": {
    "scrolled": false
   },
   "outputs": [],
   "source": [
    "filtered_wo = kx.notch_all_harmonics(data_without_mpm, 60.0, 15000.0)\n",
    "filtered_wo = kx.notch_all_harmonics(filtered_wo, 100.2, 15000.0)\n",
    "plt.figure(figsize=fig_size)\n",
    "plt.plot(np.arange(0, data_without_mpm.size)*dt, filtered_wo)\n",
    "\n",
    "filtered_wo = kx.butter_lowpass_filter(filtered_wo, 1000.0, 15000.0)\n",
    "plt.figure(figsize=fig_size)\n",
    "plt.plot(np.arange(0, data_without_mpm.size)*dt, filtered_wo)\n",
    "\n",
    "\n",
    "# filtered_wo = kx.butter_bandpass_filter(data_without_mpm, 300.0, 3000.0, 15000.0)\n",
    "# plt.figure(figsize=fig_size)\n",
    "# plt.plot(np.arange(0, data_without_mpm.size)*dt, filtered_wo)\n",
    "\n",
    "\n",
    "plt.figure(figsize=fig_size)\n",
    "plt.plot(np.arange(0, data_without_mpm.size)*dt, data_without_mpm)\n"
   ]
  },
  {
   "cell_type": "code",
   "execution_count": null,
   "metadata": {
    "scrolled": false
   },
   "outputs": [],
   "source": [
    "# filtered_w = kx.notch_all_harmonics(data_with_mpm, 60.0, 15000.0)\n",
    "# filtered_w = kx.notch_all_harmonics(filtered_w, 100.2, 15000.0)\n",
    "# plt.figure(figsize=fig_size)\n",
    "# plt.plot(np.arange(0, data_with_mpm.size)*dt, filtered_w)\n",
    "\n",
    "# filtered_w = kx.butter_lowpass_filter(filtered_w, 1000.0, 15000.0)\n",
    "# plt.figure(figsize=fig_size)\n",
    "# plt.plot(np.arange(0, data_with_mpm.size)*dt, filtered_w)\n",
    "\n",
    "\n",
    "filtered_w = kx.butter_bandpass_filter(data_with_mpm, 300.0, 3000.0, 15000.0)\n",
    "plt.figure(figsize=fig_size)\n",
    "plt.plot(np.arange(0, data_with_mpm.size)*dt, filtered_w)\n",
    "\n",
    "\n",
    "plt.figure(figsize=fig_size)\n",
    "plt.plot(np.arange(0, data_with_mpm.size)*dt, data_with_mpm)\n"
   ]
  },
  {
   "cell_type": "code",
   "execution_count": null,
   "metadata": {
    "scrolled": false
   },
   "outputs": [],
   "source": [
    "# Threshold, align, and PCA\n",
    "from sklearn.decomposition import PCA\n",
    "\n",
    "signal = filtered_w\n",
    "\n",
    "thresh = 150.0\n",
    "\n",
    "spike_indices = np.squeeze(np.where(signal > thresh))\n",
    "peak_times,_ = scipy.signal.find_peaks(signal[spike_indices])\n",
    "\n",
    "spike_indices = spike_indices[peak_times]\n",
    "plt.figure(figsize=fig_size)\n",
    "# plt.plot(np.arange(0, signal.size)*dt, signal)\n",
    "plt.plot(signal)\n",
    "plt.vlines(spike_indices, np.min(signal), np.max(signal), 'r', zorder=10, alpha=0.25)\n",
    "\n",
    "pre_window = 0.003\n",
    "post_window = 0.01\n",
    "signal_size = signal.size\n",
    "to_exclude = []\n",
    "\n",
    "pre_index = int(np.round(pre_window / dt))\n",
    "post_index = int(np.round(post_window / dt))\n",
    "aligned_spikes = np.array([signal[i - pre_index : i + post_index ] \n",
    "                for i in spike_indices if i not in to_exclude if (i + post_index) < signal_size\n",
    "                    if (i - pre_index) >= 0])\n",
    "\n",
    "\n",
    "\n",
    "pca = PCA(n_components=2)\n",
    "pca.fit(aligned_spikes - np.mean(aligned_spikes, axis=0))\n",
    "\n",
    "x_pca = pca.transform(aligned_spikes)"
   ]
  },
  {
   "cell_type": "code",
   "execution_count": null,
   "metadata": {},
   "outputs": [],
   "source": [
    "print(aligned_spikes.shape)\n",
    "print(700000*dt)"
   ]
  },
  {
   "cell_type": "code",
   "execution_count": null,
   "metadata": {},
   "outputs": [],
   "source": [
    "plt.figure()\n",
    "\n",
    "for row in aligned_spikes:\n",
    "    plt.plot(np.arange(0, row.size)*dt, row, 'k', alpha =0.2, zorder=5)\n",
    "    \n",
    "plt.plot(np.arange(0, row.size)*dt, np.mean(aligned_spikes, axis = 0), 'r')"
   ]
  },
  {
   "cell_type": "code",
   "execution_count": null,
   "metadata": {},
   "outputs": [],
   "source": [
    "\n",
    "\n",
    "plt.figure()\n",
    "plt.plot(x_pca[:,0], x_pca[:,1], '.')"
   ]
  },
  {
   "cell_type": "code",
   "execution_count": null,
   "metadata": {},
   "outputs": [],
   "source": []
  }
 ],
 "metadata": {
  "kernelspec": {
   "display_name": "Python 2",
   "language": "python",
   "name": "python2"
  },
  "language_info": {
   "codemirror_mode": {
    "name": "ipython",
    "version": 2
   },
   "file_extension": ".py",
   "mimetype": "text/x-python",
   "name": "python",
   "nbconvert_exporter": "python",
   "pygments_lexer": "ipython2",
   "version": "2.7.12"
  }
 },
 "nbformat": 4,
 "nbformat_minor": 2
}
