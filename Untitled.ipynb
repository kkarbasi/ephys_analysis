{
 "cells": [
  {
   "cell_type": "code",
   "execution_count": 7,
   "metadata": {},
   "outputs": [],
   "source": [
    "from fhd import *\n",
    "from matplotlib import pyplot as plt\n",
    "import numpy as np\n",
    "import kaveh.toolbox as kx"
   ]
  },
  {
   "cell_type": "code",
   "execution_count": 8,
   "metadata": {},
   "outputs": [],
   "source": [
    "import matplotlib as mpl\n",
    "mpl.rcParams['xtick.color'] = 'gray'\n",
    "mpl.rcParams['ytick.color'] = 'gray'\n",
    "mpl.rcParams['axes.labelcolor'] = 'gray'"
   ]
  },
  {
   "cell_type": "code",
   "execution_count": 9,
   "metadata": {},
   "outputs": [
    {
     "name": "stdout",
     "output_type": "stream",
     "text": [
      "The autoreload extension is already loaded. To reload it, use:\n",
      "  %reload_ext autoreload\n"
     ]
    }
   ],
   "source": [
    "%matplotlib notebook\n",
    "%load_ext autoreload\n",
    "%autoreload 2"
   ]
  },
  {
   "cell_type": "code",
   "execution_count": 10,
   "metadata": {},
   "outputs": [],
   "source": [
    "# helper functions\n",
    "def load_fhd_for_fft(f_name):\n",
    "    fhd_content = load(f_name)\n",
    "    data = np.squeeze(fhd_content['channel_{}_voltage'.format(0)].T)\n",
    "    if data.size % 2 != 0:\n",
    "        data = data[0:-1]\n",
    "    return data\n",
    "\n",
    "    \n"
   ]
  },
  {
   "cell_type": "code",
   "execution_count": 6,
   "metadata": {},
   "outputs": [],
   "source": [
    "\n",
    "Fs = 15000.0\n",
    "dt = 1.0/(Fs)\n",
    "fig_size = (15,5)\n"
   ]
  },
  {
   "cell_type": "code",
   "execution_count": null,
   "metadata": {},
   "outputs": [],
   "source": [
    "source_path = '/mnt/data/temp/2018_10_25/'\n",
    "for root, dirnames, filenames in os.walk(source_path):\n",
    "        for filename in filenames:\n",
    "            if filename.endswith('fhd'):\n",
    "                f_name = os.path.join(root, filename)\n",
    "                "
   ]
  }
 ],
 "metadata": {
  "kernelspec": {
   "display_name": "Python 2",
   "language": "python",
   "name": "python2"
  },
  "language_info": {
   "codemirror_mode": {
    "name": "ipython",
    "version": 2
   },
   "file_extension": ".py",
   "mimetype": "text/x-python",
   "name": "python",
   "nbconvert_exporter": "python",
   "pygments_lexer": "ipython2",
   "version": "2.7.12"
  }
 },
 "nbformat": 4,
 "nbformat_minor": 2
}
