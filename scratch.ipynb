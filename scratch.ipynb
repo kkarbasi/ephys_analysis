{
 "cells": [
  {
   "cell_type": "code",
   "execution_count": 1,
   "metadata": {},
   "outputs": [],
   "source": [
    "from fhd import *\n"
   ]
  },
  {
   "cell_type": "code",
   "execution_count": 2,
   "metadata": {},
   "outputs": [],
   "source": [
    "fhd_content = load('/mnt/data/temp/random_pursuit_plus_saccades_152028.fhd')"
   ]
  },
  {
   "cell_type": "code",
   "execution_count": 3,
   "metadata": {},
   "outputs": [
    {
     "name": "stdout",
     "output_type": "stream",
     "text": [
      "--------------\n",
      "system_open_time\n",
      "--------------\n",
      "open_time\n",
      "--------------\n",
      "path\n",
      "--------------\n",
      "subject_id\n",
      "--------------\n",
      "eyelink_time\n",
      "--------------\n",
      "left_horizontal_eye\n",
      "--------------\n",
      "left_vertical_eye\n",
      "--------------\n",
      "right_horizontal_eye\n",
      "--------------\n",
      "right_vertical_eye\n",
      "--------------\n",
      "left_horizontal_eye_velocity\n",
      "--------------\n",
      "left_vertical_eye_velocity\n",
      "--------------\n",
      "right_horizontal_eye_velocity\n",
      "--------------\n",
      "right_vertical_eye_velocity\n",
      "--------------\n",
      "left_horizontal_eye_velocity_filtered\n",
      "--------------\n",
      "left_vertical_eye_velocity_filtered\n",
      "--------------\n",
      "right_horizontal_eye_velocity_filtered\n",
      "--------------\n",
      "right_vertical_eye_velocity_filtered\n",
      "--------------\n",
      "left_horizontal_head_ref_eye\n",
      "--------------\n",
      "left_vertical_head_ref_eye\n",
      "--------------\n",
      "right_horizontal_head_ref_eye\n",
      "--------------\n",
      "right_vertical_head_ref_eye\n",
      "--------------\n",
      "left_pupil_area\n",
      "--------------\n",
      "right_pupil_area\n",
      "--------------\n",
      "left_horizontal_pupil\n",
      "--------------\n",
      "left_vertical_pupil\n",
      "--------------\n",
      "right_horizontal_pupil\n",
      "--------------\n",
      "right_vertical_pupil\n",
      "--------------\n",
      "horizontal_pixels_per_degree\n",
      "--------------\n",
      "vertical_pixels_per_degree\n",
      "--------------\n",
      "left_saccade\n",
      "--------------\n",
      "right_saccade\n",
      "--------------\n",
      "left_blink\n",
      "--------------\n",
      "right_blink\n",
      "--------------\n",
      "status\n",
      "--------------\n",
      "input\n",
      "--------------\n",
      "t\n",
      "--------------\n",
      "target_x\n",
      "--------------\n",
      "target_y\n",
      "--------------\n",
      "reward\n",
      "--------------\n",
      "target_visible\n",
      "--------------\n",
      "eyelink_right_affine_transformation\n",
      "--------------\n",
      "eyelink_left_affine_transformation\n",
      "--------------\n",
      "trial_0000\n",
      "--------------\n",
      "trials\n",
      "--------------\n",
      "trial_0001\n",
      "--------------\n",
      "trial_0002\n",
      "--------------\n",
      "trial_0003\n",
      "--------------\n",
      "trial_0004\n",
      "--------------\n",
      "trial_0005\n",
      "--------------\n",
      "trial_0006\n",
      "--------------\n",
      "trial_0007\n",
      "--------------\n",
      "trial_0008\n",
      "--------------\n",
      "trial_0009\n",
      "--------------\n",
      "system_close_time\n",
      "--------------\n",
      "close_time\n"
     ]
    }
   ],
   "source": [
    "for key in fhd_content.keys():\n",
    "    print('--------------')\n",
    "    print(key)"
   ]
  },
  {
   "cell_type": "code",
   "execution_count": 4,
   "metadata": {},
   "outputs": [
    {
     "data": {
      "text/plain": [
       "array([ 30.34622017])"
      ]
     },
     "execution_count": 4,
     "metadata": {},
     "output_type": "execute_result"
    }
   ],
   "source": [
    "fhd_content['trial_0001']['trial_start_time']"
   ]
  },
  {
   "cell_type": "code",
   "execution_count": null,
   "metadata": {},
   "outputs": [],
   "source": []
  }
 ],
 "metadata": {
  "kernelspec": {
   "display_name": "Python 3",
   "language": "python",
   "name": "python3"
  },
  "language_info": {
   "codemirror_mode": {
    "name": "ipython",
    "version": 3
   },
   "file_extension": ".py",
   "mimetype": "text/x-python",
   "name": "python",
   "nbconvert_exporter": "python",
   "pygments_lexer": "ipython3",
   "version": "3.6.5"
  }
 },
 "nbformat": 4,
 "nbformat_minor": 2
}
