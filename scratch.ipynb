{
 "cells": [
  {
   "cell_type": "code",
   "execution_count": null,
   "metadata": {},
   "outputs": [],
   "source": [
    "from fhd import *\n",
    "from matplotlib import pyplot as plt\n",
    "import numpy as np"
   ]
  },
  {
   "cell_type": "code",
   "execution_count": null,
   "metadata": {},
   "outputs": [],
   "source": [
    "import matplotlib as mpl\n",
    "mpl.rcParams['xtick.color'] = 'gray'\n",
    "mpl.rcParams['ytick.color'] = 'gray'\n",
    "mpl.rcParams['axes.labelcolor'] = 'gray'"
   ]
  },
  {
   "cell_type": "code",
   "execution_count": null,
   "metadata": {},
   "outputs": [],
   "source": [
    "%matplotlib notebook\n",
    "%load_ext autoreload\n",
    "%autoreload 2"
   ]
  },
  {
   "cell_type": "code",
   "execution_count": null,
   "metadata": {},
   "outputs": [],
   "source": [
    "# helper functions\n",
    "def load_fhd_for_fft(f_name):\n",
    "    fhd_content = load(f_name)\n",
    "    data = np.squeeze(fhd_content['channel_{}_voltage'.format(0)].T)\n",
    "    if data.size % 2 != 0:\n",
    "        data = data[0:-1]\n",
    "    return data\n",
    "\n",
    "    \n"
   ]
  },
  {
   "cell_type": "code",
   "execution_count": null,
   "metadata": {},
   "outputs": [],
   "source": [
    "# f_name = '/mnt/data/temp/2018_10_24/standalone_ephys_170439.fhd'\n",
    "# f_name = '/mnt/data/temp/2018_10_24/standalone_ephys_171141.fhd'\n",
    "# f_name = '/mnt/data/temp/2018_10_24/standalone_ephys_171906.fhd'\n",
    "\n",
    "f_name = '/mnt/data/temp/2018_10_25/standalone_ephys_170920.fhd'\n",
    "info = 'with mpm'\n",
    "\n",
    "fhd_content = load(f_name)\n",
    "\n",
    "Fs = 15000.0\n",
    "dt = 1.0/(Fs)\n",
    "\n",
    "fig_size = (15,5)\n",
    "\n",
    "import scipy.signal\n",
    "import scipy.fftpack\n",
    "\n",
    "\n",
    "data = np.squeeze(fhd_content['channel_{}_voltage'.format(0)].T)\n",
    "if data.size % 2 != 0:\n",
    "    data = data[0:-1]\n",
    "\n",
    "\n",
    "# plt.figure(figsize=(20,5))\n",
    "\n",
    "# plt.plot(np.arange(0, data.size)*dt, butter_bandpass_filter(data, 300.0, 3000.0, Fs))\n",
    "# plt.title('pVoltage signal channel 1, {}: {}'.format(info, f_name))\n",
    "# plt.xlabel('Time (s)')\n",
    "# plt.ylabel('uV')\n",
    "\n"
   ]
  },
  {
   "cell_type": "code",
   "execution_count": null,
   "metadata": {},
   "outputs": [],
   "source": [
    "## without mu metal, with shield\n",
    "\n",
    "data_with_mpm = load_fhd_for_fft('/mnt/data/temp/2018_10_25/standalone_ephys_170920.fhd')\n",
    "data_without_mpm = load_fhd_for_fft('/mnt/data/temp/2018_10_25/standalone_ephys_171025.fhd')\n",
    "from scipy.io import savemat\n",
    "savemat('without_mpm.mat', {'data_without_mpm': data_without_mpm})"
   ]
  },
  {
   "cell_type": "code",
   "execution_count": null,
   "metadata": {
    "scrolled": false
   },
   "outputs": [],
   "source": [
    "## without mu metal, with shield\n",
    "\n",
    "data_with_mpm = load_fhd_for_fft('/mnt/data/temp/2018_10_25/standalone_ephys_170920.fhd')\n",
    "data_without_mpm = load_fhd_for_fft('/mnt/data/temp/2018_10_25/standalone_ephys_171025.fhd')\n",
    "\n",
    "xf_w, yf_w = fft_spectrum(data_with_mpm, Fs)\n",
    "xf_wo, yf_wo = fft_spectrum(data_without_mpm, Fs)\n",
    "\n",
    "\n",
    "\n",
    "xq = np.arange(0, Fs/2, 0.5)\n",
    "\n",
    "\n",
    "yf_w_interp = np.interp(xq, xf_w, yf_w)\n",
    "yf_wo_interp = np.interp(xq, xf_wo, yf_wo)\n",
    "\n",
    "\n",
    "plt.figure(figsize = fig_size)\n",
    "plt.plot(xq, yf_w_interp - yf_wo_interp)\n",
    "plt.title('power spectrum No MuMetal; with MPM (shielded) - without MPM (shielded)')\n",
    "plt.xlabel('Frequency (Hz)');\n",
    "plt.ylabel('Power/Frequency (dB/Hz)');\n",
    "plt.ylim((-80,60))\n",
    "\n",
    "\n",
    "\n",
    "plt.figure(figsize = fig_size)\n",
    "plt.plot(xf_w, yf_w)\n",
    "plt.title('Power spectrum No MuMetal, with MPM (shielded)')\n",
    "plt.xlabel('Frequency (Hz)');\n",
    "plt.ylabel('Power/Frequency (dB/Hz)');\n",
    "plt.ylim((-80,60))\n",
    "plt.savefig('no-mu-w-mpm-shielded.png')\n",
    "\n",
    "plt.figure(figsize = fig_size)\n",
    "plt.plot(xf_wo, yf_wo)\n",
    "plt.title('Power spectrum No MuMetal, without MPM')\n",
    "plt.xlabel('Frequency (Hz)');\n",
    "plt.ylabel('Power/Frequency (dB/Hz)');\n",
    "plt.ylim((-80,60))\n",
    "plt.savefig('no-mu-no-mpm.png')\n",
    "\n",
    "# x_id = closest_argmin(xf_w, xf_wo)\n",
    "\n",
    "\n",
    "# plt.figure(figsize=(20,10))\n",
    "# plt.plot(xf_w, yf_w - yf_wo[x_id])\n",
    "# plt.title('power spectrum (with - without)')\n",
    "# plt.xlabel('Frequency (Hz)');\n",
    "# plt.ylabel('Power/Frequency (dB/Hz)');\n",
    "# plt.ylim((-80,60))\n",
    "\n",
    "\n"
   ]
  },
  {
   "cell_type": "code",
   "execution_count": null,
   "metadata": {
    "scrolled": false
   },
   "outputs": [],
   "source": [
    "## with mu metal, with shield\n",
    "\n",
    "data_with_mpm = load_fhd_for_fft('/mnt/data/temp/2018_10_25/standalone_ephys_170741.fhd')\n",
    "data_without_mpm = load_fhd_for_fft('/mnt/data/temp/2018_10_25/standalone_ephys_170603.fhd')\n",
    "\n",
    "from scipy.io import savemat\n",
    "savemat('with_mpm.mat', {'data_with_mpm_shielded': data_with_mpm})\n",
    "\n",
    "xf_w, yf_w = fft_spectrum(data_with_mpm, Fs)\n",
    "xf_wo, yf_wo = fft_spectrum(data_without_mpm, Fs)\n",
    "\n",
    "\n",
    "\n",
    "xq = np.arange(0, Fs/2, 0.5)\n",
    "\n",
    "\n",
    "yf_w_interp = np.interp(xq, xf_w, yf_w)\n",
    "yf_wo_interp = np.interp(xq, xf_wo, yf_wo)\n",
    "\n",
    "\n",
    "plt.figure(figsize = fig_size)\n",
    "plt.plot(xq, yf_w_interp - yf_wo_interp)\n",
    "plt.title('Power spectrum; with MuMetal; (with MPM (shielded) - without MPM (shielded))')\n",
    "plt.xlabel('Frequency (Hz)');\n",
    "plt.ylabel('Power/Frequency (dB/Hz)');\n",
    "plt.ylim((-80,60))\n",
    "\n",
    "\n",
    "\n",
    "plt.figure(figsize = fig_size)\n",
    "plt.plot(xf_w, yf_w)\n",
    "plt.title('power spectrum; with MPM (shielded)')\n",
    "plt.xlabel('Frequency (Hz)');\n",
    "plt.ylabel('Power/Frequency (dB/Hz)');\n",
    "plt.ylim((-80,60))\n",
    "plt.savefig('w-mu-w-mpm-shielded.png')\n",
    "\n",
    "\n",
    "plt.figure(figsize = fig_size)\n",
    "plt.plot(xf_wo, yf_wo)\n",
    "plt.title('power spectrum; with MuMetal; without MPM (shielded)')\n",
    "plt.xlabel('Frequency (Hz)');\n",
    "plt.ylabel('Power/Frequency (dB/Hz)');\n",
    "plt.ylim((-80,60))\n",
    "plt.savefig('w-mu-no-mpm.png')"
   ]
  },
  {
   "cell_type": "code",
   "execution_count": null,
   "metadata": {},
   "outputs": [],
   "source": [
    "## without mu metal, with mpm\n",
    "\n",
    "data_with_shield = load_fhd_for_fft('/mnt/data/temp/2018_10_25/standalone_ephys_173216.fhd')\n",
    "data_without_shield = load_fhd_for_fft('/mnt/data/temp/2018_10_25/standalone_ephys_173401.fhd')\n",
    "\n",
    "xf_w, yf_w = fft_spectrum(data_with_shield, Fs)\n",
    "xf_wo, yf_wo = fft_spectrum(data_without_shield, Fs)\n",
    "\n",
    "from scipy.io import savemat\n",
    "savemat('with_mpm_not_shielded.mat', {'data_without_mpm_not_shielded': data_without_shield})\n",
    "\n",
    "xq = np.arange(0, Fs/2, 0.5)\n",
    "\n",
    "\n",
    "yf_w_interp = np.interp(xq, xf_w, yf_w)\n",
    "yf_wo_interp = np.interp(xq, xf_wo, yf_wo)\n",
    "\n",
    "\n",
    "plt.figure(figsize = fig_size)\n",
    "plt.plot(xq, yf_w_interp - yf_wo_interp)\n",
    "plt.title('power spectrum; No MuMetal; with MPM (shielded - not shielded)')\n",
    "plt.xlabel('Frequency (Hz)');\n",
    "plt.ylabel('Power/Frequency (dB/Hz)');\n",
    "plt.ylim((-80,60))\n",
    "\n",
    "\n",
    "\n",
    "plt.figure(figsize = fig_size)\n",
    "plt.plot(xf_w, yf_w)\n",
    "plt.title('power spectrum; No MuMetal; with MPM; shielded')\n",
    "plt.xlabel('Frequency (Hz)');\n",
    "plt.ylabel('Power/Frequency (dB/Hz)');\n",
    "plt.ylim((-80,60))\n",
    "plt.savefig('no-mu-w-mpm-shielded-2.png')\n",
    "\n",
    "plt.figure(figsize = fig_size)\n",
    "plt.plot(xf_wo, yf_wo)\n",
    "plt.title('power spectrum; with MPM; Not shielded')\n",
    "plt.xlabel('Frequency (Hz)');\n",
    "plt.ylabel('Power/Frequency (dB/Hz)');\n",
    "plt.ylim((-80,60))\n",
    "plt.savefig('no-mu-w-mpm-not-shielded-2.png')\n"
   ]
  },
  {
   "cell_type": "code",
   "execution_count": null,
   "metadata": {
    "scrolled": true
   },
   "outputs": [],
   "source": [
    "from __future__ import division\n",
    "import numpy as np\n",
    "import matplotlib.pyplot as plt\n",
    "\n",
    "# data = np.random.rand(301) - 0.5\n",
    "ps = np.abs(np.fft.fft(data))**2\n",
    "\n",
    "# time_step = 1 / 30\n",
    "freqs = np.fft.fftfreq(data.size, dt)\n",
    "idx = np.argsort(freqs)\n",
    "plt.figure()\n",
    "plt.plot(freqs[idx], ps[idx])"
   ]
  },
  {
   "cell_type": "code",
   "execution_count": null,
   "metadata": {
    "scrolled": false
   },
   "outputs": [],
   "source": [
    "import scipy.signal\n",
    "import scipy.fftpack\n",
    "\n",
    "f, axes = plt.subplots(4, 2, gridspec_kw = {'width_ratios':[2, 1]})\n",
    "f.set_size_inches(13,10)\n",
    "for i in range(4):\n",
    "    data = fhd_content['channel_{}_voltage'.format(i)].T\n",
    "    axes[i][0].plot(np.arange(0, data.size)*dt, data)\n",
    "\n",
    "    yf = scipy.fftpack.fft(data)\n",
    "    N = data.size\n",
    "    xf = np.linspace(0.0, 1.0 / (2.0 * dt), N/2)\n",
    "    power_spectrum = 2.0/N * np.abs(yf[:N//2])    \n",
    "    axes[i][1].plot(xf, power_spectrum)\n",
    "\n",
    "# for i in range(4):\n",
    "#     axes[4 + i].plot(fhd_content['channel_{}'.format(i)].T)    \n",
    "    \n",
    "# plt.plot(fhd_content['channel_0'].T)"
   ]
  },
  {
   "cell_type": "code",
   "execution_count": null,
   "metadata": {
    "scrolled": true
   },
   "outputs": [],
   "source": [
    "for i,key in enumerate(fhd_content.keys()):\n",
    "    print('------{}--------'.format(i))\n",
    "    print(key)"
   ]
  },
  {
   "cell_type": "code",
   "execution_count": null,
   "metadata": {},
   "outputs": [],
   "source": [
    "from sklearn.decomposition import PCA\n",
    "\n",
    "pca = PCA(n_components=2)\n",
    "pca.fit(sss.aligned_spikes - np.mean(sss.aligned_spikes, axis=0))\n",
    "\n",
    "x_pca = pca.transform(sss.aligned_spikes)"
   ]
  }
 ],
 "metadata": {
  "kernelspec": {
   "display_name": "Python 2",
   "language": "python",
   "name": "python2"
  },
  "language_info": {
   "codemirror_mode": {
    "name": "ipython",
    "version": 2
   },
   "file_extension": ".py",
   "mimetype": "text/x-python",
   "name": "python",
   "nbconvert_exporter": "python",
   "pygments_lexer": "ipython2",
   "version": "2.7.12"
  }
 },
 "nbformat": 4,
 "nbformat_minor": 2
}
